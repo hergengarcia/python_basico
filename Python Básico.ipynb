{
 "cells": [
  {
   "cell_type": "markdown",
   "id": "encouraging-delicious",
   "metadata": {},
   "source": [
    "### Python Básico\n",
    "- Python é uma linguagem de propósito geral, utilizado para aplicações ao ramo do machine learning e da ciência de dados. Estudando os comandos de programação específicos para a área, estará apto a usar essa linguagem no dia a dia."
   ]
  },
  {
   "cell_type": "markdown",
   "id": "charming-hours",
   "metadata": {},
   "source": [
    "#### Formatando no Python"
   ]
  },
  {
   "cell_type": "code",
   "execution_count": 2,
   "id": "nonprofit-hampshire",
   "metadata": {},
   "outputs": [],
   "source": [
    "fruta = 'limao'\n",
    "saldo = 100"
   ]
  },
  {
   "cell_type": "code",
   "execution_count": 3,
   "id": "attached-inspiration",
   "metadata": {},
   "outputs": [
    {
     "name": "stdout",
     "output_type": "stream",
     "text": [
      "Suco de limao é meu favorito!\n"
     ]
    }
   ],
   "source": [
    "print('Suco de %s é meu favorito!' %fruta)"
   ]
  },
  {
   "cell_type": "code",
   "execution_count": 5,
   "id": "danish-victorian",
   "metadata": {},
   "outputs": [
    {
     "name": "stdout",
     "output_type": "stream",
     "text": [
      "Valor do saldo é: 100\n"
     ]
    }
   ],
   "source": [
    "print('Valor do saldo é: %d' %saldo)"
   ]
  },
  {
   "cell_type": "code",
   "execution_count": 6,
   "id": "tropical-denial",
   "metadata": {},
   "outputs": [
    {
     "name": "stdout",
     "output_type": "stream",
     "text": [
      "Valor do saldo é: 100.000000\n"
     ]
    }
   ],
   "source": [
    "print('Valor do saldo é: %f' %saldo)"
   ]
  },
  {
   "cell_type": "code",
   "execution_count": 7,
   "id": "another-blind",
   "metadata": {},
   "outputs": [
    {
     "name": "stdout",
     "output_type": "stream",
     "text": [
      "Suco de limao é meu favorito!\n"
     ]
    }
   ],
   "source": [
    "print('Suco de {} é meu favorito!'.format(fruta))"
   ]
  },
  {
   "cell_type": "code",
   "execution_count": 8,
   "id": "handled-bermuda",
   "metadata": {},
   "outputs": [
    {
     "name": "stdout",
     "output_type": "stream",
     "text": [
      "O Valor 100.00 é o saldo!\n"
     ]
    }
   ],
   "source": [
    "print('O Valor {:.2f} é o saldo!'.format(saldo))"
   ]
  },
  {
   "cell_type": "code",
   "execution_count": 34,
   "id": "rubber-hopkins",
   "metadata": {},
   "outputs": [],
   "source": [
    "valor1 = 21\n",
    "valor2 = 501\n",
    "valor3 = 100"
   ]
  },
  {
   "cell_type": "code",
   "execution_count": 27,
   "id": "alleged-contrast",
   "metadata": {},
   "outputs": [
    {
     "name": "stdout",
     "output_type": "stream",
     "text": [
      "O valor1 é: 25, o valor2 é: 50 e o valor3 é: 100 \n"
     ]
    }
   ],
   "source": [
    "print('O valor1 é: {0}, o valor2 é: {1} e o valor3 é: {2} '.format(valor1,valor2,valor3))"
   ]
  },
  {
   "cell_type": "code",
   "execution_count": 35,
   "id": "superior-master",
   "metadata": {},
   "outputs": [
    {
     "name": "stdout",
     "output_type": "stream",
     "text": [
      "23.857142857142858\n"
     ]
    }
   ],
   "source": [
    "conta = valor2 / valor1\n",
    "print(conta)"
   ]
  },
  {
   "cell_type": "code",
   "execution_count": 39,
   "id": "instructional-picnic",
   "metadata": {},
   "outputs": [
    {
     "name": "stdout",
     "output_type": "stream",
     "text": [
      "Resultado: 23.86\n"
     ]
    }
   ],
   "source": [
    "print('Resultado: {:.2f}'.format(conta))"
   ]
  },
  {
   "cell_type": "markdown",
   "id": "tender-secretary",
   "metadata": {},
   "source": [
    "#### Condicionais no Python"
   ]
  },
  {
   "cell_type": "code",
   "execution_count": 51,
   "id": "headed-rebel",
   "metadata": {},
   "outputs": [
    {
     "name": "stdout",
     "output_type": "stream",
     "text": [
      "A comida pao possui poucas calorias\n"
     ]
    }
   ],
   "source": [
    "alimento = 'pao'\n",
    "if alimento == 'pizza':\n",
    "    print('A comida {}'.format(alimento), 'possui muitas calorias')\n",
    "else:\n",
    "    print('A comida {}'.format(alimento), 'possui poucas calorias')\n"
   ]
  },
  {
   "cell_type": "code",
   "execution_count": 68,
   "id": "suburban-wealth",
   "metadata": {},
   "outputs": [
    {
     "name": "stdout",
     "output_type": "stream",
     "text": [
      "Valor igual a 100: 100\n"
     ]
    }
   ],
   "source": [
    "valor = 100\n",
    "if valor == 100:\n",
    "    print('Valor igual a 100:', valor)\n",
    "elif valor < 100:\n",
    "    print('Valor menor que 100:', valor)\n",
    "elif valor > 100:\n",
    "    print('Valor maior que 100:', valor)\n",
    "else:\n",
    "    print('Valor desconhecido:', valor)"
   ]
  },
  {
   "cell_type": "markdown",
   "id": "typical-enterprise",
   "metadata": {},
   "source": [
    "Ex.1 - Calcular se o usuario é adulto."
   ]
  },
  {
   "cell_type": "code",
   "execution_count": 17,
   "id": "ranking-excuse",
   "metadata": {},
   "outputs": [
    {
     "name": "stdout",
     "output_type": "stream",
     "text": [
      "Qual seu ano de nascimento? 1973\n",
      "Você é adulto, você tem 48 anos\n"
     ]
    }
   ],
   "source": [
    "ano_atual = 2021\n",
    "ano_nasc = int(input('Qual seu ano de nascimento? '))\n",
    "idade = (ano_atual - ano_nasc)\n",
    "if idade >= 18:\n",
    "    print(f'Você é adulto, você tem {idade} anos')\n",
    "else:\n",
    "    print(f'Você não é adulto, você tem {idade} anos')"
   ]
  },
  {
   "cell_type": "markdown",
   "id": "constitutional-meter",
   "metadata": {},
   "source": [
    "#### Loops com \"for in range\" no Python"
   ]
  },
  {
   "cell_type": "code",
   "execution_count": 16,
   "id": "medical-monitoring",
   "metadata": {},
   "outputs": [
    {
     "name": "stdout",
     "output_type": "stream",
     "text": [
      "0\n",
      "1\n",
      "2\n",
      "3\n",
      "4\n",
      "O Valor de i é: 4\n",
      "O Valor de a é: 5\n"
     ]
    }
   ],
   "source": [
    "a = 0\n",
    "for i in range(5):\n",
    "    print(i)\n",
    "    a = a + 1\n",
    "print('O Valor de i é:', i)\n",
    "print('O Valor de a é:', a)"
   ]
  },
  {
   "cell_type": "code",
   "execution_count": 23,
   "id": "specific-progressive",
   "metadata": {},
   "outputs": [
    {
     "name": "stdout",
     "output_type": "stream",
     "text": [
      "Frase\n",
      "Frase\n",
      "Frase\n",
      "Frase\n",
      "Frase\n",
      "Frase\n",
      "Frase\n",
      "Frase\n",
      "Frase\n",
      "Frase\n"
     ]
    }
   ],
   "source": [
    "a = 0\n",
    "b = 10\n",
    "for i in range(a,b):\n",
    "    print('Frase')"
   ]
  },
  {
   "cell_type": "code",
   "execution_count": 18,
   "id": "electoral-dayton",
   "metadata": {},
   "outputs": [
    {
     "name": "stdout",
     "output_type": "stream",
     "text": [
      "F\n",
      "a\n",
      "m\n",
      "i\n",
      "l\n",
      "i\n",
      "a\n"
     ]
    }
   ],
   "source": [
    "palavra = 'Familia'\n",
    "for i in palavra:\n",
    "    print(i)"
   ]
  },
  {
   "cell_type": "code",
   "execution_count": 4,
   "id": "unable-stranger",
   "metadata": {},
   "outputs": [
    {
     "name": "stdout",
     "output_type": "stream",
     "text": [
      "2\n",
      "9\n",
      "11\n",
      "py\n",
      "55\n",
      "data\n"
     ]
    }
   ],
   "source": [
    "lista = [2,9,11,'py',55,'data']   \n",
    "for num in lista:\n",
    "    print(num)"
   ]
  },
  {
   "cell_type": "markdown",
   "id": "developmental-thriller",
   "metadata": {},
   "source": [
    "#### Utilizando os comandos While e Break em Python\n",
    "- executa comando enquanto tive satifeista a condição"
   ]
  },
  {
   "cell_type": "code",
   "execution_count": 16,
   "id": "outer-village",
   "metadata": {
    "collapsed": true
   },
   "outputs": [
    {
     "name": "stdout",
     "output_type": "stream",
     "text": [
      "Não concluido a condição!\n",
      "0\n",
      "Não concluido a condição!\n",
      "1\n",
      "Não concluido a condição!\n",
      "2\n",
      "Não concluido a condição!\n",
      "3\n",
      "Não concluido a condição!\n",
      "4\n",
      "Não concluido a condição!\n",
      "5\n",
      "Concluida a condição!\n"
     ]
    }
   ],
   "source": [
    "import time\n",
    "contador = 0\n",
    "while contador < 10:\n",
    "    print('Não concluido a condição!')\n",
    "    print(contador)\n",
    "    contador = contador + 1\n",
    "    if contador == 6:\n",
    "        break\n",
    "    time.sleep(1)\n",
    "print('Concluida a condição!')"
   ]
  },
  {
   "cell_type": "markdown",
   "id": "positive-conducting",
   "metadata": {},
   "source": [
    "Ex.2 - Calculando o fatorial do numero fornecido pelo usuario.\n",
    "- 4! = 4*3*2*1"
   ]
  },
  {
   "cell_type": "code",
   "execution_count": 51,
   "id": "invisible-stage",
   "metadata": {
    "scrolled": false
   },
   "outputs": [
    {
     "name": "stdout",
     "output_type": "stream",
     "text": [
      "Digite um número inteiro qualquer menor que 10: 5\n",
      "5! = 120\n"
     ]
    }
   ],
   "source": [
    "num = int(input('Digite um número inteiro qualquer menor que 10: '))\n",
    "contador = 1\n",
    "fat = num\n",
    "while (num-contador) >= 1:\n",
    "    fat = fat*(num-contador)\n",
    "    contador = contador + 1\n",
    "print('{}! = {}'.format(num, fat))"
   ]
  },
  {
   "cell_type": "markdown",
   "id": "boolean-gallery",
   "metadata": {},
   "source": [
    "##### Usando módulos e bibliotecas"
   ]
  },
  {
   "cell_type": "code",
   "execution_count": 52,
   "id": "romantic-factory",
   "metadata": {},
   "outputs": [
    {
     "data": {
      "text/plain": [
       "120"
      ]
     },
     "execution_count": 52,
     "metadata": {},
     "output_type": "execute_result"
    }
   ],
   "source": [
    "import math\n",
    "math.factorial(5)"
   ]
  },
  {
   "cell_type": "code",
   "execution_count": 66,
   "id": "illegal-mortgage",
   "metadata": {},
   "outputs": [
    {
     "data": {
      "text/plain": [
       "datetime.date(2021, 5, 5)"
      ]
     },
     "execution_count": 66,
     "metadata": {},
     "output_type": "execute_result"
    }
   ],
   "source": [
    "import datetime\n",
    "datetime.date.today() # biblioteca.modulo.função"
   ]
  },
  {
   "cell_type": "code",
   "execution_count": 69,
   "id": "drawn-champagne",
   "metadata": {},
   "outputs": [
    {
     "data": {
      "text/plain": [
       "'2021-05-05'"
      ]
     },
     "execution_count": 69,
     "metadata": {},
     "output_type": "execute_result"
    }
   ],
   "source": [
    "from datetime import date\n",
    "date.isoformat(date.today())"
   ]
  },
  {
   "cell_type": "markdown",
   "id": "accurate-infrared",
   "metadata": {},
   "source": [
    "#### Definindo Funções em Python"
   ]
  },
  {
   "cell_type": "code",
   "execution_count": 79,
   "id": "useful-player",
   "metadata": {},
   "outputs": [],
   "source": [
    "def texto():\n",
    "    print('A soma dos valores 2 + 2 = 4:')"
   ]
  },
  {
   "cell_type": "code",
   "execution_count": 82,
   "id": "attempted-liability",
   "metadata": {},
   "outputs": [
    {
     "name": "stdout",
     "output_type": "stream",
     "text": [
      "A soma dos valores 2 + 2 = 4:\n"
     ]
    }
   ],
   "source": [
    "texto() # chamando a função"
   ]
  },
  {
   "cell_type": "code",
   "execution_count": 87,
   "id": "ambient-entrepreneur",
   "metadata": {},
   "outputs": [],
   "source": [
    "def temLetraA():\n",
    "    frase = input('Digite uma frase: ')\n",
    "    if 'a' in frase:\n",
    "        print('A Frase tem a letra a: ')\n",
    "    else:\n",
    "        print('A Frase não tem a letra: a')"
   ]
  },
  {
   "cell_type": "code",
   "execution_count": 88,
   "id": "younger-morgan",
   "metadata": {},
   "outputs": [
    {
     "name": "stdout",
     "output_type": "stream",
     "text": [
      "Digite uma frase: querer é poder\n",
      "A Frase não tem a letra: a\n"
     ]
    }
   ],
   "source": [
    "temLetraA()"
   ]
  },
  {
   "cell_type": "code",
   "execution_count": 89,
   "id": "touched-forestry",
   "metadata": {},
   "outputs": [],
   "source": [
    "def somaQadrados(a,b):\n",
    "    somaQ = a**2 + b**2\n",
    "    return somaQ"
   ]
  },
  {
   "cell_type": "code",
   "execution_count": 91,
   "id": "religious-corner",
   "metadata": {},
   "outputs": [
    {
     "data": {
      "text/plain": [
       "5"
      ]
     },
     "execution_count": 91,
     "metadata": {},
     "output_type": "execute_result"
    }
   ],
   "source": [
    "somaQadrados(1,2) # chamando a função com parametros"
   ]
  },
  {
   "cell_type": "code",
   "execution_count": null,
   "id": "hungarian-polymer",
   "metadata": {},
   "outputs": [],
   "source": []
  }
 ],
 "metadata": {
  "kernelspec": {
   "display_name": "Python 3",
   "language": "python",
   "name": "python3"
  },
  "language_info": {
   "codemirror_mode": {
    "name": "ipython",
    "version": 3
   },
   "file_extension": ".py",
   "mimetype": "text/x-python",
   "name": "python",
   "nbconvert_exporter": "python",
   "pygments_lexer": "ipython3",
   "version": "3.9.0"
  }
 },
 "nbformat": 4,
 "nbformat_minor": 5
}
